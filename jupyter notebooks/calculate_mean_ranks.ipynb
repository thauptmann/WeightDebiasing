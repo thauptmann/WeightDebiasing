{
 "cells": [
  {
   "cell_type": "code",
   "execution_count": 10,
   "id": "a47b7bc3",
   "metadata": {},
   "outputs": [],
   "source": [
    "import pandas as pd"
   ]
  },
  {
   "cell_type": "markdown",
   "id": "fd8aeea6",
   "metadata": {},
   "source": [
    "## AUROC All Data Sets"
   ]
  },
  {
   "cell_type": "code",
   "execution_count": 11,
   "id": "dccf5703",
   "metadata": {},
   "outputs": [
    {
     "data": {
      "text/plain": [
       "Uniform     3.0\n",
       "PSA         3.0\n",
       "KMM         3.0\n",
       "MRS         3.0\n",
       "Soft-MRS    3.0\n",
       "dtype: float64"
      ]
     },
     "execution_count": 11,
     "metadata": {},
     "output_type": "execute_result"
    }
   ],
   "source": [
    "uniform =  [0,0,0,0,0]\n",
    "psa =      [0,0,0,0,0]\n",
    "kmm =      [0,0,0,0,0]\n",
    "mrs =      [0,0,0,0,0]\n",
    "soft_mrs = [0,0,0,0,0]\n",
    "\n",
    "auroc_df = pd.DataFrame([uniform, psa, kmm, mrs, soft_mrs], \n",
    "                        index=[\"Uniform\", \"PSA\", \"KMM\", \"MRS\", \"Soft-MRS\"],\n",
    "                       columns=[\"US Census Income\", \"US Census Employment\", \"Breast Cancer\",\n",
    "                               \"Human Research Analytics\", \"Loan\"])\n",
    "auroc_df.rank(ascending=False).mean(1).sort_values()"
   ]
  },
  {
   "cell_type": "markdown",
   "id": "8bd80550",
   "metadata": {},
   "source": [
    "## AUROC Large Data Sets"
   ]
  },
  {
   "cell_type": "code",
   "execution_count": 12,
   "id": "9d0f42b2",
   "metadata": {},
   "outputs": [
    {
     "data": {
      "text/plain": [
       "Uniform     3.0\n",
       "PSA         3.0\n",
       "KMM         3.0\n",
       "MRS         3.0\n",
       "Soft-MRS    3.0\n",
       "dtype: float64"
      ]
     },
     "execution_count": 12,
     "metadata": {},
     "output_type": "execute_result"
    }
   ],
   "source": [
    "uniform =  [0,0,0]\n",
    "psa =      [0,0,0]\n",
    "kmm =      [0,0,0]\n",
    "mrs =      [0,0,0]\n",
    "soft_mrs = [0,0,0]\n",
    "\n",
    "auroc_df = pd.DataFrame([uniform, psa, kmm, mrs, soft_mrs], \n",
    "                        index=[\"Uniform\", \"PSA\", \"KMM\", \"MRS\", \"Soft-MRS\"],\n",
    "                       columns=[\"US Census Income\", \"US Census Employment\", \"Human Research Analytics\"])\n",
    "auroc_df.rank(ascending=False).mean(1).sort_values()"
   ]
  },
  {
   "cell_type": "markdown",
   "id": "ef99b144",
   "metadata": {},
   "source": [
    "## AUPRC Large Data Sets"
   ]
  },
  {
   "cell_type": "code",
   "execution_count": 13,
   "id": "a3fda07e",
   "metadata": {},
   "outputs": [
    {
     "data": {
      "text/plain": [
       "Uniform     3.0\n",
       "PSA         3.0\n",
       "KMM         3.0\n",
       "MRS         3.0\n",
       "Soft-MRS    3.0\n",
       "dtype: float64"
      ]
     },
     "execution_count": 13,
     "metadata": {},
     "output_type": "execute_result"
    }
   ],
   "source": [
    "uniform =  [0,0,0,0,0]\n",
    "psa =      [0,0,0,0,0]\n",
    "kmm =      [0,0,0,0,0]\n",
    "mrs =      [0,0,0,0,0]\n",
    "soft_mrs = [0,0,0,0,0]\n",
    "\n",
    "auprc_df = pd.DataFrame([uniform, psa, kmm, mrs, soft_mrs], \n",
    "                        index=[\"Uniform\", \"PSA\", \"KMM\", \"MRS\", \"Soft-MRS\"],\n",
    "                       columns=[\"US Census Income\", \"US Census Employment\", \"Breast Cancer\",\n",
    "                               \"Human Research Analytics\", \"Loan\"])\n",
    "auprc_df.rank(ascending=False).mean(1).sort_values()"
   ]
  },
  {
   "cell_type": "code",
   "execution_count": 14,
   "id": "66e3dfeb",
   "metadata": {},
   "outputs": [
    {
     "data": {
      "text/plain": [
       "Uniform     3.0\n",
       "PSA         3.0\n",
       "KMM         3.0\n",
       "MRS         3.0\n",
       "Soft-MRS    3.0\n",
       "dtype: float64"
      ]
     },
     "execution_count": 14,
     "metadata": {},
     "output_type": "execute_result"
    }
   ],
   "source": [
    "uniform =  [0,0,0]\n",
    "psa =      [0,0,0]\n",
    "kmm =      [0,0,0]\n",
    "mrs =      [0,0,0]\n",
    "soft_mrs = [0,0,0]\n",
    "\n",
    "auprc_df = pd.DataFrame([uniform, psa, kmm, mrs, soft_mrs], \n",
    "                        index=[\"Uniform\", \"PSA\", \"KMM\", \"MRS\", \"Soft-MRS\"],\n",
    "                       columns=[\"US Census Income\", \"US Census Employment\", \n",
    "                               \"Human Research Analytics\"])\n",
    "auprc_df.rank(ascending=False).mean(1).sort_values()"
   ]
  },
  {
   "cell_type": "markdown",
   "id": "3785a5db",
   "metadata": {},
   "source": [
    "## MMD All Data Sets"
   ]
  },
  {
   "cell_type": "code",
   "execution_count": 15,
   "id": "3b34bc4f",
   "metadata": {},
   "outputs": [
    {
     "data": {
      "text/plain": [
       "Uniform     3.0\n",
       "PSA         3.0\n",
       "KMM         3.0\n",
       "MRS         3.0\n",
       "Soft-MRS    3.0\n",
       "dtype: float64"
      ]
     },
     "execution_count": 15,
     "metadata": {},
     "output_type": "execute_result"
    }
   ],
   "source": [
    "uniform =  [100, 100, 100, 100, 100]\n",
    "psa =      [100, 100, 100, 100, 100]\n",
    "kmm =      [100, 100, 100, 100, 100]\n",
    "mrs =      [100, 100, 100, 100, 100]\n",
    "soft_mrs = [100, 100, 100, 100, 100]\n",
    "\n",
    "mmd_df = pd.DataFrame([uniform, psa, kmm, mrs, soft_mrs], \n",
    "                        index=[\"Uniform\", \"PSA\", \"KMM\", \"MRS\", \"Soft-MRS\"],\n",
    "                       columns=[\"US Census Income\", \"US Census Employment\", \"Breast Cancer\",\n",
    "                               \"Human Research Analytics\", \"Loan\"])\n",
    "mmd_df.rank().mean(1)"
   ]
  },
  {
   "cell_type": "markdown",
   "id": "eb3124d8",
   "metadata": {},
   "source": [
    "## MMD Large Data Sets"
   ]
  },
  {
   "cell_type": "code",
   "execution_count": 16,
   "id": "51f8c961",
   "metadata": {},
   "outputs": [
    {
     "data": {
      "text/plain": [
       "Uniform     3.0\n",
       "PSA         3.0\n",
       "KMM         3.0\n",
       "MRS         3.0\n",
       "Soft-MRS    3.0\n",
       "dtype: float64"
      ]
     },
     "execution_count": 16,
     "metadata": {},
     "output_type": "execute_result"
    }
   ],
   "source": [
    "uniform =  [100, 100, 100]\n",
    "psa =      [100, 100, 100]\n",
    "kmm =      [100, 100, 100]\n",
    "mrs =      [100, 100, 100]\n",
    "soft_mrs = [100, 100, 100]\n",
    "\n",
    "mmd_df = pd.DataFrame([uniform, psa, kmm, mrs, soft_mrs], \n",
    "                        index=[\"Uniform\", \"PSA\", \"KMM\", \"MRS\", \"Soft-MRS\"],\n",
    "                       columns=[\"US Census Income\", \"US Census Employment\",\n",
    "                               \"Human Research Analytics\"])\n",
    "mmd_df.rank().mean(1).sort_values()"
   ]
  },
  {
   "cell_type": "markdown",
   "id": "8fffbc95",
   "metadata": {},
   "source": [
    "## Relative Bias All Data Sets"
   ]
  },
  {
   "cell_type": "code",
   "execution_count": 17,
   "id": "d33f3fad",
   "metadata": {},
   "outputs": [
    {
     "data": {
      "text/plain": [
       "Uniform     3.0\n",
       "PSA         3.0\n",
       "KMM         3.0\n",
       "MRS         3.0\n",
       "Soft-MRS    3.0\n",
       "dtype: float64"
      ]
     },
     "execution_count": 17,
     "metadata": {},
     "output_type": "execute_result"
    }
   ],
   "source": [
    "uniform =  [100, 100, 100, 100, 100]\n",
    "psa =      [100, 100, 100, 100, 100]\n",
    "kmm =      [100, 100, 100, 100, 100]\n",
    "mrs =      [100, 100, 100, 100, 100]\n",
    "soft_mrs = [100, 100, 100, 100, 100]\n",
    "\n",
    "relative_bias_df = pd.DataFrame([uniform, psa, kmm, mrs, soft_mrs], \n",
    "                        index=[\"Uniform\", \"PSA\", \"KMM\", \"MRS\", \"Soft-MRS\"],\n",
    "                       columns=[\"US Census Income\", \"US Census Employment\", \"Breast Cancer\",\n",
    "                               \"Human Research Analytics\", \"Loan\"])\n",
    "relative_bias_df.rank().mean(1).sort_values()"
   ]
  },
  {
   "cell_type": "markdown",
   "id": "227ef9fe",
   "metadata": {},
   "source": [
    "## Relative Bias Large Data Sets"
   ]
  },
  {
   "cell_type": "code",
   "execution_count": 18,
   "id": "9c7e8440",
   "metadata": {},
   "outputs": [
    {
     "data": {
      "text/plain": [
       "Uniform     3.0\n",
       "PSA         3.0\n",
       "KMM         3.0\n",
       "MRS         3.0\n",
       "Soft-MRS    3.0\n",
       "dtype: float64"
      ]
     },
     "execution_count": 18,
     "metadata": {},
     "output_type": "execute_result"
    }
   ],
   "source": [
    "uniform =  [100, 100, 100]\n",
    "psa =      [100, 100, 100]\n",
    "kmm =      [100, 100, 100]\n",
    "mrs =      [100, 100, 100]\n",
    "soft_mrs = [100, 100, 100]\n",
    "\n",
    "relative_bias_df = pd.DataFrame([uniform, psa, kmm, mrs, soft_mrs], \n",
    "                        index=[\"Uniform\", \"PSA\", \"KMM\", \"MRS\", \"Soft-MRS\"],\n",
    "                       columns=[\"US Census Income\", \"US Census Employment\", \n",
    "                               \"Human Research Analytics\"])\n",
    "relative_bias_df.rank().mean(1).sort_values()"
   ]
  },
  {
   "cell_type": "code",
   "execution_count": null,
   "id": "3abee66c",
   "metadata": {},
   "outputs": [],
   "source": []
  },
  {
   "cell_type": "code",
   "execution_count": null,
   "id": "87a86065",
   "metadata": {},
   "outputs": [],
   "source": []
  }
 ],
 "metadata": {
  "kernelspec": {
   "display_name": "weightDebiasing",
   "language": "python",
   "name": "python3"
  },
  "language_info": {
   "codemirror_mode": {
    "name": "ipython",
    "version": 3
   },
   "file_extension": ".py",
   "mimetype": "text/x-python",
   "name": "python",
   "nbconvert_exporter": "python",
   "pygments_lexer": "ipython3",
   "version": "3.10.12"
  }
 },
 "nbformat": 4,
 "nbformat_minor": 5
}
